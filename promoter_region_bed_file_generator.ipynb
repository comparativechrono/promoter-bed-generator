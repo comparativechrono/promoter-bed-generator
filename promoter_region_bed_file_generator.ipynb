{
  "nbformat": 4,
  "nbformat_minor": 0,
  "metadata": {
    "colab": {
      "provenance": [],
      "authorship_tag": "ABX9TyMwMZGbKIOV8lNhb7TNZTtc",
      "include_colab_link": true
    },
    "kernelspec": {
      "name": "python3",
      "display_name": "Python 3"
    },
    "language_info": {
      "name": "python"
    }
  },
  "cells": [
    {
      "cell_type": "markdown",
      "metadata": {
        "id": "view-in-github",
        "colab_type": "text"
      },
      "source": [
        "<a href=\"https://colab.research.google.com/github/comparativechrono/promoter-bed-generator/blob/main/promoter_region_bed_file_generator.ipynb\" target=\"_parent\"><img src=\"https://colab.research.google.com/assets/colab-badge.svg\" alt=\"Open In Colab\"/></a>"
      ]
    },
    {
      "cell_type": "code",
      "execution_count": null,
      "metadata": {
        "id": "2ZCPaOi1POlq"
      },
      "outputs": [],
      "source": [
        "def generate_upstream_bed(input_file, output_file, upstream_length=1000):\n",
        "    with open(input_file, 'r') as infile, open(output_file, 'w') as outfile:\n",
        "        for line in infile:\n",
        "            # Skip empty lines\n",
        "            if line.strip() == \"\":\n",
        "                continue\n",
        "\n",
        "            # Parse the input BED line\n",
        "            chrom, start, end, gene, score, strand = line.strip().split()\n",
        "            start, end = int(start), int(end)\n",
        "\n",
        "            # Calculate the 1000 bp upstream region\n",
        "            if strand == '+':\n",
        "                # Forward strand: upstream is before the start position\n",
        "                new_start = max(0, start - upstream_length)\n",
        "                new_end = start\n",
        "            elif strand == '-':\n",
        "                # Reverse strand: upstream is after the end position\n",
        "                new_start = end\n",
        "                new_end = end + upstream_length\n",
        "            else:\n",
        "                # Skip if the strand information is invalid\n",
        "                continue\n",
        "\n",
        "            # Write to the output file in BED format\n",
        "            outfile.write(f\"{chrom}\\t{new_start}\\t{new_end}\\t{gene}\\t{score}\\t{strand}\\n\")\n",
        "\n",
        "\n",
        "# Usage\n",
        "input_bed = \"Syndrome.bed\"\n",
        "output_bed = \"upstream_regions.bed\"\n",
        "generate_upstream_bed(input_bed, output_bed)\n"
      ]
    }
  ]
}